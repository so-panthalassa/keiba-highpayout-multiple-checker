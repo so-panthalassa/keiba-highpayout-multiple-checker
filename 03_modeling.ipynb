{
 "cells": [
  {
   "cell_type": "markdown",
   "id": "f4de9834",
   "metadata": {},
   "source": [
    "# 高配当の予測"
   ]
  },
  {
   "cell_type": "markdown",
   "id": "01301901",
   "metadata": {},
   "source": [
    "- results_dfを競馬場ごとに分ける\n",
    "- HighPayoutFlagを目的変数として機械学習を実装"
   ]
  },
  {
   "cell_type": "markdown",
   "id": "e72ace70",
   "metadata": {},
   "source": [
    "# 下準備"
   ]
  },
  {
   "cell_type": "code",
   "execution_count": 4,
   "id": "e6b64f7d",
   "metadata": {},
   "outputs": [],
   "source": [
    "import pandas as pd\n",
    "import numpy as np\n",
    "from sklearn.model_selection import train_test_split\n",
    "from lightgbm import LGBMClassifier\n",
    "from sklearn.metrics import roc_auc_score"
   ]
  },
  {
   "cell_type": "code",
   "execution_count": 8,
   "id": "d63532fe",
   "metadata": {},
   "outputs": [
    {
     "data": {
      "text/plain": [
       "Index(['race_id', 'race_id', '着順', '枠番', '馬番', '馬名', '性齢', '斤量', '騎手', 'タイム',\n",
       "       '着差', '単勝', '人気', '馬体重', '調教師', 'course_len', 'weather', 'race_type',\n",
       "       'ground_state', 'date', 'horse_id', 'jockey_id', 'HighPayoutFlag', '所属',\n",
       "       '競馬場', '月', '馬体重_増減', '性', '年齢', '斤量区分', '距離区分', '馬体重_bin', '年齢_bin',\n",
       "       '体重_bin'],\n",
       "      dtype='object')"
      ]
     },
     "execution_count": 8,
     "metadata": {},
     "output_type": "execute_result"
    }
   ],
   "source": [
    "results_df = pd.read_pickle('02_results_df.pickle')\n",
    "results_df.columns"
   ]
  }
 ],
 "metadata": {
  "kernelspec": {
   "display_name": "venv311",
   "language": "python",
   "name": "python3"
  },
  "language_info": {
   "codemirror_mode": {
    "name": "ipython",
    "version": 3
   },
   "file_extension": ".py",
   "mimetype": "text/x-python",
   "name": "python",
   "nbconvert_exporter": "python",
   "pygments_lexer": "ipython3",
   "version": "3.11.6"
  }
 },
 "nbformat": 4,
 "nbformat_minor": 5
}
